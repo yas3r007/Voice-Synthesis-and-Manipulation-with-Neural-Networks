{
 "cells": [
  {
   "cell_type": "code",
   "execution_count": null,
   "id": "c2ed7ced-b6a0-46bb-9c59-2b28f37c1edf",
   "metadata": {},
   "outputs": [],
   "source": [
    "#Voice Synthesis and Manipulation with Neural Networks\n",
    "#This notebook demonstrates a simple project using a neural network to synthesize and manipulate voice-like sounds. I will use a Recurrent Neural Network (RNN) model to generate basic sine wave sounds, showing a basic approach to voice synthesis."
   ]
  },
  {
   "cell_type": "code",
   "execution_count": null,
   "id": "76f5bd6d",
   "metadata": {},
   "outputs": [],
   "source": [
    "# Import necessary libraries\n",
    "import numpy as np\n",
    "import matplotlib.pyplot as plt\n",
    "from tensorflow.keras.models import Sequential\n",
    "from tensorflow.keras.layers import SimpleRNN, Dense\n",
    "from pydub import AudioSegment\n",
    "from pydub.playback import play\n",
    "import IPython.display as ipd\n",
    "import soundfile as sf"
   ]
  },
  {
   "cell_type": "code",
   "execution_count": null,
   "id": "ea1f226e",
   "metadata": {},
   "outputs": [],
   "source": [
    "# Function to generate sine wave data\n",
    "def generate_sine_wave(frequency, duration, sample_rate=16000):\n",
    "    t = np.linspace(0, duration, int(sample_rate * duration), endpoint=False)\n",
    "    wave = 0.5 * np.sin(2 * np.pi * frequency * t)\n",
    "    return wave\n",
    "\n",
    "# Generate a sample sine wave (basic tone)\n",
    "sample_rate = 16000  # Sample rate in Hz\n",
    "duration = 2.0       # Duration in seconds\n",
    "frequency = 440.0    # Frequency of the sine wave (A4 note)\n",
    "wave = generate_sine_wave(frequency, duration, sample_rate)\n",
    "\n",
    "# Plot the generated sine wave\n",
    "plt.plot(wave[:1000])\n",
    "plt.title(\"Generated Sine Wave\")\n",
    "plt.xlabel(\"Sample Number\")\n",
    "plt.ylabel(\"Amplitude\")\n",
    "plt.show()"
   ]
  },
  {
   "cell_type": "code",
   "execution_count": null,
   "id": "6adbb25e",
   "metadata": {},
   "outputs": [],
   "source": [
    "# Define a simple RNN model for generating sequences\n",
    "def build_rnn_model(input_shape):\n",
    "    model = Sequential()\n",
    "    model.add(SimpleRNN(50, activation='tanh', input_shape=input_shape, return_sequences=True))\n",
    "    model.add(Dense(1))\n",
    "    model.compile(optimizer='adam', loss='mse')\n",
    "    return model\n",
    "\n",
    "# Prepare input for the RNN model\n",
    "wave = wave.reshape((1, -1, 1))  # Reshape for RNN input (batch_size, timesteps, features)\n",
    "input_shape = (wave.shape[1], wave.shape[2])\n",
    "\n",
    "# Build the RNN model\n",
    "model = build_rnn_model(input_shape)\n",
    "model.summary()"
   ]
  },
  {
   "cell_type": "code",
   "execution_count": null,
   "id": "4ae24a79",
   "metadata": {},
   "outputs": [],
   "source": [
    "# Train the model with generated sine wave data (demo training)\n",
    "model.fit(wave, wave, epochs=10, verbose=1)"
   ]
  },
  {
   "cell_type": "code",
   "execution_count": null,
   "id": "5611e73d",
   "metadata": {},
   "outputs": [],
   "source": [
    "# Generate new sound using the trained RNN model\n",
    "predicted_wave = model.predict(wave).flatten()\n",
    "\n",
    "# Plot the original and generated waveforms\n",
    "plt.figure(figsize=(14, 5))\n",
    "plt.plot(predicted_wave[:1000], label='Generated Wave')\n",
    "plt.plot(wave.flatten()[:1000], alpha=0.6, label='Original Wave')\n",
    "plt.title(\"Original vs. Generated Sine Wave\")\n",
    "plt.xlabel(\"Sample Number\")\n",
    "plt.ylabel(\"Amplitude\")\n",
    "plt.legend()\n",
    "plt.show()"
   ]
  },
  {
   "cell_type": "code",
   "execution_count": null,
   "id": "9bd1f27a",
   "metadata": {},
   "outputs": [],
   "source": [
    "# Save the generated sound as a .wav file\n",
    "sf.write('generated_sound.wav', predicted_wave, sample_rate)\n",
    "\n",
    "# Play the sound in the notebook (comment out play() if running outside Jupyter)\n",
    "ipd.Audio('generated_sound.wav', autoplay=True)"
   ]
  },
  {
   "cell_type": "code",
   "execution_count": null,
   "id": "2e9fe97f-ef80-4c02-a2b9-b7c28bd75b3f",
   "metadata": {},
   "outputs": [],
   "source": [
    "#Conclusion\n",
    "#This notebook showcased a basic approach to voice synthesis using a simple RNN model to generate sine waves resembling basic tones. This type of project demonstrates foundational knowledge of sound generation and neural network implementation, suitable for showcasing in resumes as a unique application of AI."
   ]
  }
 ],
 "metadata": {
  "kernelspec": {
   "display_name": "Python 3 (ipykernel)",
   "language": "python",
   "name": "python3"
  },
  "language_info": {
   "codemirror_mode": {
    "name": "ipython",
    "version": 3
   },
   "file_extension": ".py",
   "mimetype": "text/x-python",
   "name": "python",
   "nbconvert_exporter": "python",
   "pygments_lexer": "ipython3",
   "version": "3.12.2"
  }
 },
 "nbformat": 4,
 "nbformat_minor": 5
}
